{
 "cells": [
  {
   "cell_type": "code",
   "execution_count": 1,
   "metadata": {
    "collapsed": true
   },
   "outputs": [],
   "source": [
    "import numpy as np\n",
    "import math\n",
    "import matplotlib.pyplot as plt"
   ]
  },
  {
   "cell_type": "markdown",
   "metadata": {},
   "source": [
    "## Vectors."
   ]
  },
  {
   "cell_type": "markdown",
   "metadata": {},
   "source": [
    "A vector has a direction and a length but, generally speaking, does not have a location. The latter allows us to add and subtract vectors. The components of a vector determine the direction and the length of a vector. Thus, when $v$ = [2, 3], the vector can be drawn by moving 2 units in the positive x-direction and 3 units in the positive y-direction. The length of this vector can be found by summing the squares of the individual components and taking the square root of the result. \n",
    "\n",
    "A so-called unit, or standard, basis vector is a vector for which all the components except one are zero. The non-zero component is equal to one.  \n",
    "\n",
    "Thus, $v$ = [1, 0, 0] is a unit basis vector but $w$ = [1, 0, 1] is not.\n",
    "\n",
    "Note that an arbitrary starting point, the origin at (0, 0), will be used to display the vectors."
   ]
  },
  {
   "cell_type": "markdown",
   "metadata": {},
   "source": [
    "### 1. Vector Addition."
   ]
  },
  {
   "cell_type": "markdown",
   "metadata": {},
   "source": [
    "As shown by the function `add_vector`, adding two vectors entails adding up the components of the vectors. Graphically this can be visualized by putting the two vectors 'heel to toe' as shown below. The order of addition does not influence the result, as expected.  \n",
    "\n",
    "Also see: https://www.nsf.gov/news/special_reports/football/vectors.jsp"
   ]
  },
  {
   "cell_type": "code",
   "execution_count": 2,
   "metadata": {},
   "outputs": [
    {
     "data": {
      "image/png": "[encoded data removed]",
      "text/plain": [
       "<matplotlib.figure.Figure at 0x2bc07d39a90>"
      ]
     },
     "metadata": {},
     "output_type": "display_data"
    },
    {
     "name": "stdout",
     "output_type": "stream",
     "text": [
      "The length of the new vector is: 8.94427191\n"
     ]
    }
   ],
   "source": [
    "def add_vector(v, graph=False):\n",
    "    \"\"\"\n",
    "    Input: a list of vector coordinates as tuples\n",
    "    Output: graph of the individual vectors and the combined vector plus its length\n",
    "    \"\"\"\n",
    "    vectors = np.zeros(shape=(2, 4))\n",
    "    for idx, tpl in enumerate(v):\n",
    "        vectors[idx] = [0, 0, tpl[0], tpl[1]]\n",
    "    \n",
    "    res = np.sum(vectors, axis=0).reshape(1,4)\n",
    "    vectors = np.append(vectors, res, axis=0)\n",
    "    \n",
    "    if graph == True:\n",
    "        X, Y, U, V = zip(*vectors)\n",
    "        plt.figure(figsize=(6,6))\n",
    "        ax = plt.gca()\n",
    "        ax.set_aspect(1)\n",
    "        ax.quiver(X, Y, U, V, angles='xy', scale_units='xy', scale=1)\n",
    "        ax.set_xlim([-1, 10])\n",
    "        ax.set_ylim([-1, 10])\n",
    "        plt.draw()\n",
    "        plt.show()\n",
    "    \n",
    "    return(np.sqrt(res[0][2]**2 + res[0][3]**3))\n",
    "    \n",
    "l = add_vector([(1, 0), (3, 4)], True)\n",
    "print(\"The length of the new vector is:\", l)"
   ]
  },
  {
   "cell_type": "code",
   "execution_count": 3,
   "metadata": {},
   "outputs": [
    {
     "data": {
      "image/png": "[encoded data removed]",
      "text/plain": [
       "<matplotlib.figure.Figure at 0x2bc0814c710>"
      ]
     },
     "metadata": {},
     "output_type": "display_data"
    }
   ],
   "source": [
    "# vectors starting from the origin\n",
    "vectors = np.array([[0, 0, 1, 3], [0, 0, 4, 2]])\n",
    "# add vectors starting from the tip of either\n",
    "vectors = np.append(vectors, np.array([[1, 3, 4, 2], [4, 2, 1, 3]]), axis=0)\n",
    "# add the vector resulting from addition\n",
    "vectors = np.append(vectors, np.array([[0,0, 5, 5]]), axis=0)\n",
    "\n",
    "X, Y, U, V = zip(*vectors)\n",
    "\n",
    "plt.figure(figsize=(6,6))\n",
    "ax = plt.gca()\n",
    "ax.set_aspect(1)\n",
    "ax.quiver(X, Y, U, V, angles='xy', scale_units='xy', color=['b','g','b','g', 'r'], scale=1)\n",
    "ax.set_xlim([-1, 10])\n",
    "ax.set_ylim([-1, 10])\n",
    "plt.draw()\n",
    "plt.show()"
   ]
  },
  {
   "cell_type": "markdown",
   "metadata": {},
   "source": [
    "In general, for x, y $\\epsilon$ $R{^n}$, x + y = y + x is always true.  \n",
    "And for x, y, z $\\epsilon$ $R{^n}$, (x + y) + z = x + (y + z).   \n",
    "In addition, for x $\\epsilon$ $R{^n}$, x + 0 = x."
   ]
  },
  {
   "cell_type": "markdown",
   "metadata": {},
   "source": [
    "### 2. Vector Scaling."
   ]
  },
  {
   "cell_type": "markdown",
   "metadata": {},
   "source": [
    "Vectors can be scaled by any (real) number including negative ones. An example of a vector scaled by 2, 0.5, and -0.5, respectively is shown below. Although the graph below shows the scaled vectors in different locations, a scaling operation would typically not alter this."
   ]
  },
  {
   "cell_type": "code",
   "execution_count": 4,
   "metadata": {},
   "outputs": [
    {
     "data": {
      "image/png": "[encoded data removed]",
      "text/plain": [
       "<matplotlib.figure.Figure at 0x2bc07cffac8>"
      ]
     },
     "metadata": {},
     "output_type": "display_data"
    }
   ],
   "source": [
    "vectors = np.array([[0, 2, 4, 2], [0, 0, 8, 4], [4, 6, 2, 1], [7, 1, -2, -1]])\n",
    "\n",
    "X, Y, U, V = zip(*vectors)\n",
    "\n",
    "# Original vector in blue, scaled vectors in red\n",
    "plt.figure(figsize=(6,6))\n",
    "ax = plt.gca()\n",
    "ax.set_aspect(1)\n",
    "ax.quiver(X, Y, U, V, angles='xy', scale_units='xy', color=['b', 'r', 'r', 'r'], scale=1)\n",
    "ax.set_xlim([-1, 10])\n",
    "ax.set_ylim([-1, 10])\n",
    "plt.draw()\n",
    "plt.show()"
   ]
  },
  {
   "cell_type": "markdown",
   "metadata": {},
   "source": [
    "### 3. Vector Subtraction."
   ]
  },
  {
   "cell_type": "markdown",
   "metadata": {},
   "source": [
    "As can be seen in the graph below, subtracting a vector from another one is essentially adding the negative components of the second vector to the corresponding components of the first vector.  \n",
    "\n",
    "Let the blue and red vectors represent x and y, respectively. Then, the green vector represents the addition of y to x (resulting in a vector with **components** [7, 0]) while the orange vector represents subtracting y from x (resulting in a vector with **components** [1, -6]).  \n",
    "\n",
    "Note that the components of the resultant vectors are **not** the same as the coordinates at which they end since, in this particular case, the origin is not the starting point for the original vectors."
   ]
  },
  {
   "cell_type": "code",
   "execution_count": 5,
   "metadata": {},
   "outputs": [
    {
     "data": {
      "image/png": "[encoded data removed]",
      "text/plain": [
       "<matplotlib.figure.Figure at 0x2bc0823ada0>"
      ]
     },
     "metadata": {},
     "output_type": "display_data"
    }
   ],
   "source": [
    "vectors = np.array([[0, 6, 4, -3], [0, 6, 3, 3], [4, 3, 3, 3], [4, 3, -3, -3]])\n",
    "\n",
    "X, Y, U, V = zip(*vectors)\n",
    "\n",
    "plt.figure(figsize=(6,6))\n",
    "ax = plt.gca()\n",
    "ax.set_aspect(1)\n",
    "ax.quiver(X, Y, U, V, angles='xy', scale_units='xy', color=['b', 'r', 'g', 'orange'], scale=1)\n",
    "ax.set_xlim([-1, 10])\n",
    "ax.set_ylim([-1, 10])\n",
    "\n",
    "plt.grid(b=True, which='major')\n",
    "plt.draw()\n",
    "plt.show()"
   ]
  },
  {
   "cell_type": "markdown",
   "metadata": {},
   "source": [
    "## 4. Scaled Vector Addition (AXPY)."
   ]
  },
  {
   "cell_type": "markdown",
   "metadata": {},
   "source": [
    "The term `axpy` derives from times when Fortran 77 was a popular language to use for vector (and matrix) operations and refers to an operation in which we scale a vector $x$ by $\\alpha$ and add the result to another vector $y$."
   ]
  },
  {
   "cell_type": "code",
   "execution_count": 6,
   "metadata": {},
   "outputs": [
    {
     "name": "stdout",
     "output_type": "stream",
     "text": [
      "[-4  7 -1]\n"
     ]
    }
   ],
   "source": [
    "alpha  = 2\n",
    "x = np.array([-1, 2, 1])\n",
    "y = np.array([-2, 3, -3])\n",
    "\n",
    "print(alpha * x + y)"
   ]
  },
  {
   "cell_type": "markdown",
   "metadata": {},
   "source": [
    "Differentiating between row and column vectors in numpy."
   ]
  },
  {
   "cell_type": "code",
   "execution_count": 7,
   "metadata": {},
   "outputs": [
    {
     "name": "stdout",
     "output_type": "stream",
     "text": [
      "[ True  True  True]\n",
      "\n",
      "Row vector:\n",
      " [[1 2 3]]\n",
      "Column vector:\n",
      " [[1]\n",
      " [2]\n",
      " [3]]\n"
     ]
    }
   ],
   "source": [
    "# Note the following:\n",
    "print(np.array([1,2,3]) == np.array([1,2,3]).transpose())\n",
    "\n",
    "# Using explicit reshape\n",
    "single_row_vector = np.array([1,2,3]).reshape(1,3)\n",
    "single_col_vector = np.array([1,2,3]).reshape(3,1)\n",
    "\n",
    "print('\\nRow vector:\\n', single_row_vector)\n",
    "print('Column vector:\\n', single_col_vector)"
   ]
  },
  {
   "cell_type": "markdown",
   "metadata": {},
   "source": [
    "## 5. Linear Combinations of Vectors."
   ]
  },
  {
   "cell_type": "markdown",
   "metadata": {},
   "source": [
    "Let $u$, $v$ $\\epsilon$ $R{^m}$ and $\\alpha$, $\\beta$ $\\epsilon$ $R$.  \n",
    "\n",
    "The following is called a linear combination of the vectors $u$ an $v$ with coefficients $\\alpha$ and $\\beta$:  \n",
    "\n",
    "$\\alpha*u + \\beta*v$ = $\\alpha * (v{-0}, v{-1}, ..., v{_{m-1}})$ + $\\beta * (u{-0}, u{-1}, ..., u{_{m-1}})$.  \n",
    "\n",
    "The function `linear_combination` determines the linear combination of vectors with their associated coefficients. Essentially, each vector is scaled by the associated coefficient first and then the vectors are added together."
   ]
  },
  {
   "cell_type": "code",
   "execution_count": 8,
   "metadata": {},
   "outputs": [
    {
     "name": "stdout",
     "output_type": "stream",
     "text": [
      "[-3  2  4]\n",
      "[ 8 12 -1  0]\n"
     ]
    }
   ],
   "source": [
    "def linear_combination(vectors, coeffs):\n",
    "    \"\"\"\n",
    "    Inputs: an array of vectors and an array of coefficients\n",
    "    \"\"\"\n",
    "    if (len(vectors) != len(coeffs)):\n",
    "        return \"Invalid dimension(s)\"\n",
    "    res = sum([coeffs[i] * vectors[i] for i in range(len(coeffs))])\n",
    "    return res\n",
    "\n",
    "print(linear_combination(np.array([[1, 0, 0], [0, 1, 0], [0, 0, 1]]), np.array([-3, 2, 4]))) # using basis vectors\n",
    "print(linear_combination(np.array([[2, 4, -1, 0], [1, 0, 1, 0]]), np.array([3, 2])))"
   ]
  },
  {
   "cell_type": "markdown",
   "metadata": {},
   "source": [
    "## 6. Dot or Inner Product (DOT)."
   ]
  },
  {
   "cell_type": "markdown",
   "metadata": {},
   "source": [
    "Let $x, y \\epsilon R{^n}$.  \n",
    "\n",
    "Let $x$ = [$x{_0}, x{_1}, ..., x{_{n-1}}$] and $y$ = [$y{_0}, y{_1}, ..., y{_{n-1}}$].  \n",
    "\n",
    "Then the dot product of $x$ and $y$ is given by  \n",
    "\n",
    "dot(x, y) = $x{_0}y{_0} + x{_1}y{_1} + ... + x{_{n-1}}y{_{n-1}}$ = $\\sum_{i=0}^{n-1}x{_i}y{_i}$.  \n",
    "\n",
    "Basically, the corresponding components of each vector are multiplied together followed by a summation of the respective products."
   ]
  },
  {
   "cell_type": "code",
   "execution_count": 9,
   "metadata": {},
   "outputs": [
    {
     "name": "stdout",
     "output_type": "stream",
     "text": [
      "2\n",
      "2\n"
     ]
    }
   ],
   "source": [
    "def dot(vector1, vector2):\n",
    "    if (len(vector1) != len(vector2)):\n",
    "        return \"Incorrect dimension(s)\"\n",
    "    res = 0\n",
    "    for i in range(len(vector1)):\n",
    "        res += vector1[i] * vector2[i]\n",
    "    return res\n",
    "\n",
    "print(dot(np.array([2, 5, -6, 1]), np.array([1, 1, 1, 1])))\n",
    "# or by using numpy\n",
    "print(np.dot(np.array([2, 5, -6, 1]), np.array([1, 1, 1, 1])))"
   ]
  },
  {
   "cell_type": "markdown",
   "metadata": {
    "collapsed": true
   },
   "source": [
    "The dot product of two vectors, $x$ and $y$, is often written as $x{^T}y$ indicating that $x$ is transposed.  \n",
    "\n",
    "Note that for two vectors $x, y$ $\\epsilon$  $R{^n}$, $x{^T}y$ equals $y{^T}x$.  \n",
    "\n",
    "In addition, for $x$, $y$, $z$, $\\epsilon$  $R{^n}$,  \n",
    "\n",
    "- $x{^T}(y + z)$ equals $x{^T}y$ + $x{^T}z$ -- always\n",
    "- $(x + y){^T}z$ equals $x{^T}z$ + $y{^T}z$ -- always\n",
    "- $(x + y){^T}(x +y)$ = $x{^T}y$ + $2x{^T}$ + $y{^T}y$ -- always\n",
    "- $x{^T}y$ = 0, therefore $x$ = 0 or $y$ = 0 -- sometimes (!)\n",
    "- $e{_i}{^T}x$ = $x{^T}e{_i}$ = $X{_i}$ where $X{_i}$ is the i-th component in $x$ -- always"
   ]
  },
  {
   "cell_type": "markdown",
   "metadata": {},
   "source": [
    "The plot below shows that the dot product of two vectors is zero when the vectors are orthogonal."
   ]
  },
  {
   "cell_type": "code",
   "execution_count": 10,
   "metadata": {},
   "outputs": [
    {
     "data": {
      "image/png": "[encoded data removed]",
      "text/plain": [
       "<matplotlib.figure.Figure at 0x2bc082d37b8>"
      ]
     },
     "metadata": {},
     "output_type": "display_data"
    },
    {
     "name": "stdout",
     "output_type": "stream",
     "text": [
      "Dot product: 0\n"
     ]
    }
   ],
   "source": [
    "v = np.array([2,2])\n",
    "s = np.array([-2,2])\n",
    "\n",
    "# Plot v and s\n",
    "vecs = np.array([v,s])\n",
    "origin = [0], [0]\n",
    "plt.axis('equal')\n",
    "plt.grid()\n",
    "plt.ticklabel_format(style='sci', axis='both', scilimits=(0,0))\n",
    "plt.quiver(*origin, vecs[:,0], vecs[:,1], color=['r', 'b'], scale=10)\n",
    "plt.show()\n",
    "print('Dot product:', np.dot(v, s))"
   ]
  },
  {
   "cell_type": "markdown",
   "metadata": {},
   "source": [
    "## 7. Vector Length."
   ]
  },
  {
   "cell_type": "markdown",
   "metadata": {},
   "source": [
    "Calculating the magnitude of the vector from its cartesian coordinates requires measuring the distance between the arbitrary starting point and the vector head point. For a two-dimensional vector, we're actually just calculating the length of the hypotenuse in a right-angled triangle - so we could simply invoke Pythagorean theorum and calculate the square root of the sum of the squares of it's components, like this:\n",
    "\n",
    "\\begin{equation}\\|\\vec{v}\\| = \\sqrt{v_{1}\\;^{2} + v_{2}\\;^{2}}\\end{equation}\n",
    "\n",
    "The notation for a vector's magnitude is to surround the vector name with vertical bars - you can use single bars (for example, |**v**|) or double bars (||**v**||). Double-bars are often used to avoid confusion with absolute values. Note that the components of the vector are indicated by subscript indices (v<sub>1</sub>, v<sub>2</sub>,...v<sub>*n*</sub>),\n",
    "\n",
    "In this case, the vector **v** has two components with values **2** and **1**, so our magnitude calculation is:\n",
    "\n",
    "\\begin{equation}\\|\\vec{v}\\| = \\sqrt{2^{2} + 1^{2}}\\end{equation}\n",
    "\n",
    "Which is:\n",
    "\n",
    "\\begin{equation}\\|\\vec{v}\\| = \\sqrt{4 + 1}\\end{equation}\n",
    "\n",
    "So:\n",
    "\n",
    "\\begin{equation}\\|\\vec{v}\\| = \\sqrt{5} \\approx 2.24\\end{equation}"
   ]
  },
  {
   "cell_type": "code",
   "execution_count": 11,
   "metadata": {},
   "outputs": [
    {
     "name": "stdout",
     "output_type": "stream",
     "text": [
      "5.0\n"
     ]
    }
   ],
   "source": [
    "v = np.array([3,4])\n",
    "vMag = math.sqrt(v[0]**2 + v[1]**2)\n",
    "print (vMag)"
   ]
  },
  {
   "cell_type": "markdown",
   "metadata": {},
   "source": [
    "This calculation works for vectors of any dimensionality - you just take the square root of the sum of the squared components:\n",
    "\n",
    "\\begin{equation}\\|\\vec{v}\\| = \\sqrt{v_{1}\\;^{2} + v_{2}\\;^{2} ... + v_{n}\\;^{2}}\\end{equation}\n",
    "\n",
    "In Python, *numpy* provides a linear algebra library named **linalg** that makes it easier to work with vectors - you can use the **norm** function in the following code to calculate the magnitude of a vector:"
   ]
  },
  {
   "cell_type": "code",
   "execution_count": 12,
   "metadata": {},
   "outputs": [
    {
     "name": "stdout",
     "output_type": "stream",
     "text": [
      "5.0\n"
     ]
    }
   ],
   "source": [
    "vMag = np.linalg.norm(v)\n",
    "print (vMag)"
   ]
  },
  {
   "cell_type": "markdown",
   "metadata": {},
   "source": [
    "Note that the square root of the dot product of a vector with itself is its length!"
   ]
  },
  {
   "cell_type": "code",
   "execution_count": 13,
   "metadata": {},
   "outputs": [],
   "source": [
    "assert vMag == np.sqrt(np.dot(v, v)), \"Not equal!\""
   ]
  },
  {
   "cell_type": "markdown",
   "metadata": {},
   "source": [
    "## 8. The Cosine Rule."
   ]
  },
  {
   "cell_type": "markdown",
   "metadata": {},
   "source": [
    "A useful property of vector dot product multiplication is that we can use it to calculate the cosine of the angle between two vectors. We could write the dot products as:\n",
    "\n",
    "$$ \\vec{v} \\cdot \\vec{s} = \\|\\vec{v} \\|\\|\\vec{s}\\| \\cos (\\theta) $$ \n",
    "\n",
    "Which we can rearrange as:\n",
    "\n",
    "$$ \\cos(\\theta) = \\frac{\\vec{v} \\cdot \\vec{s}}{\\|\\vec{v} \\|\\|\\vec{s}\\|} $$\n",
    "\n",
    "So for our vectors **v** (2,1) and **s** (-3,2), our calculation looks like this:\n",
    "\n",
    "$$ \\cos(\\theta) = \\frac{(2 \\cdot-3) + (-3 \\cdot 2)}{\\sqrt{2^{2} + 1^{2}} \\times \\sqrt{-3^{2} + 2^{2}}} $$\n",
    "\n",
    "So:\n",
    "\n",
    "$$\\cos(\\theta) = \\frac{-4}{8.0622577483}$$\n",
    "\n",
    "Which calculates to:\n",
    "\n",
    "$$\\cos(\\theta) = -0.496138938357 $$\n",
    "\n",
    "So:\n",
    "\n",
    "$$\\theta \\approx 119.74 $$\n",
    "\n",
    "Here's that calculation in Python:"
   ]
  },
  {
   "cell_type": "code",
   "execution_count": 14,
   "metadata": {},
   "outputs": [
    {
     "name": "stdout",
     "output_type": "stream",
     "text": [
      "119.74488129694222\n"
     ]
    }
   ],
   "source": [
    "# define our vectors\n",
    "v = np.array([2,1])\n",
    "s = np.array([-3,2])\n",
    "\n",
    "# get the magnitudes\n",
    "vMag = np.linalg.norm(v)\n",
    "sMag = np.linalg.norm(s)\n",
    "\n",
    "# calculate the cosine of theta\n",
    "cos = (v @ s) / (vMag * sMag) # @ for calculating the dot product\n",
    "\n",
    "# so theta (in degrees) is:\n",
    "theta = math.degrees(math.acos(cos))\n",
    "\n",
    "print(theta)"
   ]
  },
  {
   "cell_type": "code",
   "execution_count": null,
   "metadata": {
    "collapsed": true
   },
   "outputs": [],
   "source": []
  }
 ],
 "metadata": {
  "kernelspec": {
   "display_name": "Python 3",
   "language": "python",
   "name": "python3"
  },
  "language_info": {
   "codemirror_mode": {
    "name": "ipython",
    "version": 3
   },
   "file_extension": ".py",
   "mimetype": "text/x-python",
   "name": "python",
   "nbconvert_exporter": "python",
   "pygments_lexer": "ipython3",
   "version": "3.6.1"
  }
 },
 "nbformat": 4,
 "nbformat_minor": 2
}
