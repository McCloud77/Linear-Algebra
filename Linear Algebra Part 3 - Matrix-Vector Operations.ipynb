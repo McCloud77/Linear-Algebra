{
 "cells": [
  {
   "cell_type": "code",
   "execution_count": 1,
   "metadata": {
    "collapsed": true
   },
   "outputs": [],
   "source": [
    "import numpy as np\n",
    "import matplotlib.pyplot as plt\n",
    "%matplotlib inline"
   ]
  },
  {
   "cell_type": "markdown",
   "metadata": {},
   "source": [
    "## 1. The Zero Matrix."
   ]
  },
  {
   "cell_type": "markdown",
   "metadata": {},
   "source": [
    "Multiplication of a vector with the appropriate zero matrix returns a zero vector.  \n",
    "\n",
    "Let $L_{0}: \\rm I\\!R^{n} \\to \\rm I\\!R^{m}$ be the function defined for every $x$ $\\epsilon$   $\\rm I\\!R^{n}$ by $L_{0}(x) = 0$, where '0' denotes the zero vector of appropriate size then $L_{0}(x)$ is a linear transformation."
   ]
  },
  {
   "cell_type": "code",
   "execution_count": 2,
   "metadata": {},
   "outputs": [
    {
     "name": "stdout",
     "output_type": "stream",
     "text": [
      "[1 2 3]\n",
      "[ 0.  0.  0.]\n"
     ]
    }
   ],
   "source": [
    "# Returns a zero vector of the same length\n",
    "v = np.array([1, 2, 3])\n",
    "\n",
    "M = np.zeros((3,3))\n",
    "print(v)\n",
    "print(M @ v)"
   ]
  },
  {
   "cell_type": "code",
   "execution_count": 3,
   "metadata": {},
   "outputs": [
    {
     "name": "stdout",
     "output_type": "stream",
     "text": [
      "[1 2 3]\n",
      "[ 0.  0.]\n"
     ]
    }
   ],
   "source": [
    "# Returns a zero vector with a length specified by the number of rows of the zero matrix.\n",
    "v = np.array([1, 2, 3])\n",
    "M = np.zeros((2,3))\n",
    "print(v)\n",
    "print(M @ v)"
   ]
  },
  {
   "cell_type": "markdown",
   "metadata": {},
   "source": [
    "## 2. The Identity Matrix."
   ]
  },
  {
   "cell_type": "markdown",
   "metadata": {},
   "source": [
    "Let $L_{1}: \\rm I\\!R^{n} \\to \\rm I\\!R^{n}$ be the function defined for every $x$ $\\epsilon$   $\\rm I\\!R^{n}$ by $L_{1}(x) = x$, then $L_{1}(x)$ is a linear transformation."
   ]
  },
  {
   "cell_type": "code",
   "execution_count": 4,
   "metadata": {},
   "outputs": [
    {
     "name": "stdout",
     "output_type": "stream",
     "text": [
      "[2 4 9]\n",
      "[ 2.  4.  9.]\n"
     ]
    }
   ],
   "source": [
    "v = np.array([2,4,9])\n",
    "\n",
    "M = np.identity(3)\n",
    "print(v)\n",
    "print(M @ v)"
   ]
  },
  {
   "cell_type": "markdown",
   "metadata": {},
   "source": [
    "## 3. The Diagonal Matrix."
   ]
  },
  {
   "cell_type": "code",
   "execution_count": 5,
   "metadata": {},
   "outputs": [
    {
     "name": "stdout",
     "output_type": "stream",
     "text": [
      "[2 4 9]\n",
      "[ 2  8 27]\n"
     ]
    }
   ],
   "source": [
    "v = np.array([2,4,9])\n",
    "\n",
    "M = np.diag(np.array([1,2,3]))\n",
    "print(v)\n",
    "print(M @ v)"
   ]
  },
  {
   "cell_type": "markdown",
   "metadata": {},
   "source": [
    "Note that the diagonal matrix is just a matrix of the unit basis vectors where each unit basis vector has been scaled by the appropriate value on the diagonal."
   ]
  },
  {
   "cell_type": "code",
   "execution_count": 6,
   "metadata": {},
   "outputs": [
    {
     "name": "stdout",
     "output_type": "stream",
     "text": [
      "[[1 0 0]\n",
      " [0 2 0]\n",
      " [0 0 3]]\n"
     ]
    }
   ],
   "source": [
    "print(M)"
   ]
  },
  {
   "cell_type": "markdown",
   "metadata": {},
   "source": [
    "## 4. Triangular Matrices."
   ]
  },
  {
   "cell_type": "markdown",
   "metadata": {},
   "source": [
    "Note the effect of an upper triangular matrix on a vector $v$."
   ]
  },
  {
   "cell_type": "code",
   "execution_count": 7,
   "metadata": {},
   "outputs": [
    {
     "data": {
      "image/png": "[encoded data removed]",
      "text/plain": [
       "<Figure size 432x288 with 1 Axes>"
      ]
     },
     "metadata": {},
     "output_type": "display_data"
    }
   ],
   "source": [
    "v = np.array([1,1]) # red\n",
    "M = np.triu([[1,1],\n",
    "             [0,1]])\n",
    "\n",
    "w = M @ v # blue\n",
    "\n",
    "# Plot v and s\n",
    "vecs = np.array([v,w])\n",
    "origin = [0], [0]\n",
    "plt.axis('equal')\n",
    "plt.grid()\n",
    "plt.ticklabel_format(style='sci', axis='both', scilimits=(0,0))\n",
    "plt.quiver(*origin, vecs[:,0], vecs[:,1], color=['r', 'b'], scale=10)\n",
    "plt.show()"
   ]
  },
  {
   "cell_type": "markdown",
   "metadata": {},
   "source": [
    "Note the effect of an lower triangular matrix on a vector $v$."
   ]
  },
  {
   "cell_type": "code",
   "execution_count": 8,
   "metadata": {},
   "outputs": [
    {
     "data": {
      "image/png": "[encoded data removed]",
      "text/plain": [
       "<Figure size 432x288 with 1 Axes>"
      ]
     },
     "metadata": {},
     "output_type": "display_data"
    }
   ],
   "source": [
    "v = np.array([1,1]) # red\n",
    "M = np.tril([[1,0],\n",
    "             [1,1]])\n",
    "\n",
    "w = M @ v # blue\n",
    "\n",
    "# Plot v and s\n",
    "vecs = np.array([v,w])\n",
    "origin = [0], [0]\n",
    "plt.axis('equal')\n",
    "plt.grid()\n",
    "plt.ticklabel_format(style='sci', axis='both', scilimits=(0,0))\n",
    "plt.quiver(*origin, vecs[:,0], vecs[:,1], color=['r', 'b'], scale=10)\n",
    "plt.show()"
   ]
  },
  {
   "cell_type": "markdown",
   "metadata": {},
   "source": [
    "## 5. The Transpose Matrix."
   ]
  },
  {
   "cell_type": "markdown",
   "metadata": {},
   "source": [
    "When transposing a matrix (or vector), the $(i, j)$ entry in the original matrix $M$ becomes the $(j, i)$ entry in the transposed matrix."
   ]
  },
  {
   "cell_type": "code",
   "execution_count": 9,
   "metadata": {},
   "outputs": [
    {
     "name": "stdout",
     "output_type": "stream",
     "text": [
      "[[1 2 3]\n",
      " [4 5 6]\n",
      " [7 8 9]]\n",
      "\n",
      "[[1 4 7]\n",
      " [2 5 8]\n",
      " [3 6 9]]\n",
      "\n",
      "[[1 2 3]\n",
      " [4 5 6]\n",
      " [7 8 9]]\n"
     ]
    }
   ],
   "source": [
    "M = np.array([[1,2,3], [4,5,6], [7,8,9]])\n",
    "M_transposed = np.transpose(M)\n",
    "M_double_transposed = np.transpose(M_transposed) # this is the original matrix M\n",
    "\n",
    "print(M)\n",
    "print()\n",
    "print(M_transposed)\n",
    "print()\n",
    "print(M_double_transposed)"
   ]
  },
  {
   "cell_type": "markdown",
   "metadata": {},
   "source": [
    "Note the following:  \n",
    "\n",
    "- The transpose of a lower triangular matrix is an upper triangular matrix.\n",
    "- The transpose of a strictly upper triangular matrix is a strictly lower triangular matrix.\n",
    "- The transpose of the identity matrix is the identity matrix."
   ]
  },
  {
   "cell_type": "markdown",
   "metadata": {},
   "source": [
    "## 6. Symmetric Matrices."
   ]
  },
  {
   "cell_type": "markdown",
   "metadata": {},
   "source": [
    "A matrix is symmetric when $A$ equals $A^{T}$."
   ]
  },
  {
   "cell_type": "code",
   "execution_count": 10,
   "metadata": {},
   "outputs": [
    {
     "data": {
      "image/png": "[encoded data removed]",
      "text/plain": [
       "<Figure size 432x288 with 1 Axes>"
      ]
     },
     "metadata": {},
     "output_type": "display_data"
    }
   ],
   "source": [
    "v = np.array([2,2]) # red\n",
    "M = np.array([[1,0],\n",
    "             [0,1]])\n",
    "\n",
    "w = M @ v # blue\n",
    "\n",
    "# Plot v and s\n",
    "vecs = np.array([v,w])\n",
    "origin = [0], [0]\n",
    "plt.axis('equal')\n",
    "plt.grid()\n",
    "plt.ticklabel_format(style='sci', axis='both', scilimits=(0,0))\n",
    "plt.quiver(*origin, vecs[:,0], vecs[:,1], color=['r', 'b'], scale=10)\n",
    "plt.show()"
   ]
  },
  {
   "cell_type": "markdown",
   "metadata": {},
   "source": [
    "## 7. Scaling a Matrix."
   ]
  },
  {
   "cell_type": "markdown",
   "metadata": {},
   "source": [
    "Note that applying a matrix vector multiplication first followed by a scaling will have the same result as applying the scaling to the vector first followed by the matrix vector multiplication."
   ]
  },
  {
   "cell_type": "code",
   "execution_count": 11,
   "metadata": {},
   "outputs": [
    {
     "name": "stdout",
     "output_type": "stream",
     "text": [
      "[[1 0]\n",
      " [1 1]]\n",
      "\n",
      "[[2 0]\n",
      " [2 2]]\n"
     ]
    },
    {
     "data": {
      "image/png": "[encoded data removed]",
      "text/plain": [
       "<Figure size 432x288 with 1 Axes>"
      ]
     },
     "metadata": {},
     "output_type": "display_data"
    }
   ],
   "source": [
    "v = np.array([0.5,0.5]) # red vector\n",
    "a = 2\n",
    "M = M = np.tril([[1,0],\n",
    "             [1,1]]) # x remains the same, y is skewed up\n",
    "M_scaled = a * M # apply scaling to matrix\n",
    "w = M_scaled @ v # transform vector with scaled matrix\n",
    "\n",
    "print(M)\n",
    "print()\n",
    "print(M_scaled)\n",
    "\n",
    "# Plot v and s\n",
    "vecs = np.array([v,w])\n",
    "origin = [0], [0]\n",
    "plt.axis('equal')\n",
    "plt.grid()\n",
    "plt.ticklabel_format(style='sci', axis='both', scilimits=(0,0))\n",
    "plt.quiver(*origin, vecs[:,0], vecs[:,1], color=['r', 'b'], scale=10)\n",
    "plt.show()"
   ]
  },
  {
   "cell_type": "code",
   "execution_count": 12,
   "metadata": {},
   "outputs": [],
   "source": [
    "assert ((a * v) @ M).all() == (a * (v @ M)).all()\n",
    "assert ( v @ (a * M)).all() == (a * (v @ M)).all()"
   ]
  },
  {
   "cell_type": "markdown",
   "metadata": {},
   "source": [
    "## 8. Adding Matrices."
   ]
  },
  {
   "cell_type": "code",
   "execution_count": 13,
   "metadata": {},
   "outputs": [
    {
     "name": "stdout",
     "output_type": "stream",
     "text": [
      "[[31 33 35]\n",
      " [37 39 41]\n",
      " [43 45 47]]\n"
     ]
    }
   ],
   "source": [
    "M = np.array([[10,11,12],\n",
    "             [13,14,15],\n",
    "             [16,17,18]])\n",
    "\n",
    "N = np.array([[21,22,23],\n",
    "             [24,25,26],\n",
    "             [27,28,29]])\n",
    "\n",
    "print(M + N)"
   ]
  },
  {
   "cell_type": "code",
   "execution_count": null,
   "metadata": {
    "collapsed": true
   },
   "outputs": [],
   "source": []
  }
 ],
 "metadata": {
  "kernelspec": {
   "display_name": "Python 3",
   "language": "python",
   "name": "python3"
  },
  "language_info": {
   "codemirror_mode": {
    "name": "ipython",
    "version": 3
   },
   "file_extension": ".py",
   "mimetype": "text/x-python",
   "name": "python",
   "nbconvert_exporter": "python",
   "pygments_lexer": "ipython3",
   "version": "3.6.6"
  }
 },
 "nbformat": 4,
 "nbformat_minor": 2
}
