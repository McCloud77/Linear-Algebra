{
 "cells": [
  {
   "cell_type": "code",
   "execution_count": 1,
   "metadata": {
    "collapsed": true
   },
   "outputs": [],
   "source": [
    "import numpy as np\n",
    "import matplotlib.pyplot as plt\n",
    "%matplotlib inline"
   ]
  },
  {
   "cell_type": "markdown",
   "metadata": {},
   "source": [
    "## 1. Vector Functions."
   ]
  },
  {
   "cell_type": "markdown",
   "metadata": {},
   "source": [
    "A vector function $f: \\rm I\\!R^{2} \\to \\rm I\\!R^{2}$ is a linear transformation if *for all* scalars $\\alpha$ and *for all* vectors $x$, $y$ $\\epsilon$   $\\rm I\\!R^{n}$ it is the case that:  \n",
    "\n",
    "$f(\\alpha * x) = \\alpha * f(x)$ and  \n",
    "$f(x + y) = f(x) + f(y)$  \n",
    "\n",
    "In the example below it should be obvious that scaling vector $v$ (from orange to blue) and *then* rotating it by 90 degrees (blue to green) is the same as performing the rotation first (orange to red) and *then* scaling it (red to green)."
   ]
  },
  {
   "cell_type": "code",
   "execution_count": 2,
   "metadata": {},
   "outputs": [
    {
     "data": {
      "image/png": "[encoded data removed]",
      "text/plain": [
       "<Figure size 432x288 with 1 Axes>"
      ]
     },
     "metadata": {},
     "output_type": "display_data"
    }
   ],
   "source": [
    "v = np.array([1,0]) \n",
    "t = 2 * v\n",
    "u = np.array([0,1])\n",
    "w = 2 * u\n",
    "\n",
    "# Plot v and t\n",
    "vecs = np.array([t, v, w, u])\n",
    "origin = [0], [0]\n",
    "\n",
    "plt.axis('equal')\n",
    "plt.grid()\n",
    "plt.ticklabel_format(style='sci', axis='both', scilimits=(0,0))\n",
    "plt.quiver(*origin, vecs[:,0], vecs[:,1], color=['blue', 'orange', 'green', 'red'], scale=10)\n",
    "plt.show()"
   ]
  },
  {
   "cell_type": "markdown",
   "metadata": {},
   "source": [
    "## 2. From Linear Transformation to Matrix-Vector Multiplication."
   ]
  },
  {
   "cell_type": "markdown",
   "metadata": {},
   "source": [
    "A matrix is a convenient way of representing a linear transformation.  \n",
    "\n",
    "Given k vectors $v$ and k scalars $\\alpha$, we can take a linear combination of the vectors and then apply a linear transformation $L$ or we can apply the linear transformation $L$ first to the vectors and then take the linear combination of the results.  \n",
    "\n",
    "\\begin{equation*}\n",
    "L\\left( \\sum_{j=0}^{k-1} \\alpha_j v_j \\right) =  \\sum_{j=0}^{k-1} \\alpha_j L(v_j)\n",
    "\\end{equation*}"
   ]
  },
  {
   "cell_type": "markdown",
   "metadata": {},
   "source": [
    "Any vector $x$ $\\epsilon$   $\\rm I\\!R^{n}$ can be written as a linear combination of the unit basis vectors that uses the coefficients that are the components of vector $x$. In other words, $L$ is completely described by how it transforms the unit basis vectors."
   ]
  },
  {
   "cell_type": "markdown",
   "metadata": {},
   "source": [
    "The function below exemplifies how a vector is transformed based on the transformations known to happen with the unit basis vectors.  \n",
    "\n",
    "In effect, the components of the vector to be transformed (2,3) are multiplied with the linearly transformed unit basis vectors, (3,5) and (2,-1), respectively."
   ]
  },
  {
   "cell_type": "code",
   "execution_count": 3,
   "metadata": {},
   "outputs": [
    {
     "name": "stdout",
     "output_type": "stream",
     "text": [
      "[12  7]\n"
     ]
    }
   ],
   "source": [
    "def linear_transform(vec_transforms, target):\n",
    "    \"\"\"\n",
    "    vec_transforms: a list of tuple where each tuple consists of a unit basis vector and the vector resulting\n",
    "    form a linear transformation\n",
    "    target: vector to be transformed\n",
    "    \n",
    "    Returns: linearly transformed vector\n",
    "    \"\"\"\n",
    "    res = (target[0] * vec_transforms[0][1] + target[1] * vec_transforms[1][1])\n",
    "    return res\n",
    "\n",
    "vec_transforms = [np.array([[1,0], [3,5]]), np.array([[0,1], [2,-1]])]\n",
    "target = np.array([2,3])\n",
    "print(linear_transform(vec_transforms, target))"
   ]
  },
  {
   "cell_type": "markdown",
   "metadata": {},
   "source": [
    "We can combine the linear transformations of the basis unit vectors in a matrix and then multiply the matrix with the vector to be transformed. This yields the same result. As such, a matrix linearly transforms a vector."
   ]
  },
  {
   "cell_type": "code",
   "execution_count": 4,
   "metadata": {},
   "outputs": [
    {
     "name": "stdout",
     "output_type": "stream",
     "text": [
      "Matrix vector multiplication result: [12  7]\n"
     ]
    }
   ],
   "source": [
    "# Example 1\n",
    "m = np.array([[3,2],\n",
    "              [5,-1]])\n",
    "v = np.array([2,3])\n",
    "print('Matrix vector multiplication result:', np.dot(m, v))"
   ]
  },
  {
   "cell_type": "code",
   "execution_count": 5,
   "metadata": {},
   "outputs": [
    {
     "name": "stdout",
     "output_type": "stream",
     "text": [
      "Matrix vector multiplication result: [-1 -3 -2]\n"
     ]
    }
   ],
   "source": [
    "# Example 2\n",
    "m = np.array([[-1,0,2],\n",
    "              [-3,1,-1],\n",
    "              [-2,-1,2]])\n",
    "v = np.array([1,0,0])\n",
    "print('Matrix vector multiplication result:', np.dot(m, v)) # the first column of the matrix !"
   ]
  },
  {
   "cell_type": "code",
   "execution_count": 6,
   "metadata": {},
   "outputs": [
    {
     "name": "stdout",
     "output_type": "stream",
     "text": [
      "Matrix vector multiplication result: [ 2 -1  2]\n"
     ]
    }
   ],
   "source": [
    "# Example 2\n",
    "m = np.array([[-1,0,2],\n",
    "              [-3,1,-1],\n",
    "              [-2,-1,2]])\n",
    "v = np.array([0,0,1])\n",
    "print('Matrix vector multiplication result:', np.dot(m, v)) # the last column of the matrix !"
   ]
  },
  {
   "cell_type": "code",
   "execution_count": 7,
   "metadata": {},
   "outputs": [
    {
     "name": "stdout",
     "output_type": "stream",
     "text": [
      "Result of vector @ matrix @ vector: -2\n"
     ]
    }
   ],
   "source": [
    "# Example 3\n",
    "m = np.array([[-1,0,2],\n",
    "              [-3,1,-1],\n",
    "              [-2,-1,2]])\n",
    "\n",
    "v0 = np.array([0,\n",
    "               0,\n",
    "               1])\n",
    "\n",
    "v1 = np.array([1,\n",
    "               0,\n",
    "               0])\n",
    "\n",
    "print('Result of vector @ matrix @ vector:', np.dot(v0, np.dot(m,v1))) # the (2,0) element of the matrix"
   ]
  },
  {
   "cell_type": "code",
   "execution_count": 8,
   "metadata": {},
   "outputs": [
    {
     "name": "stdout",
     "output_type": "stream",
     "text": [
      "Result of vector @ matrix @ vector: -3\n"
     ]
    }
   ],
   "source": [
    "# Example 4\n",
    "m = np.array([[-1,0,2],\n",
    "              [-3,1,-1],\n",
    "              [-2,-1,2]])\n",
    "\n",
    "v0 = np.array([0,\n",
    "               1,\n",
    "               0])\n",
    "\n",
    "v1 = np.array([1,\n",
    "               0,\n",
    "               0])\n",
    "\n",
    "print('Result of vector @ matrix @ vector:', np.dot(v0, np.dot(m,v1))) # the (1,0) element of the matrix"
   ]
  },
  {
   "cell_type": "code",
   "execution_count": 9,
   "metadata": {},
   "outputs": [
    {
     "name": "stdout",
     "output_type": "stream",
     "text": [
      "Result: [1 1 1]\n"
     ]
    }
   ],
   "source": [
    "# Example 5\n",
    "m = np.array([[2,-1],\n",
    "              [1,0],\n",
    "              [-2,3]])\n",
    "\n",
    "v0 = np.array([0,\n",
    "               1])\n",
    "\n",
    "v1 = np.array([1,\n",
    "               0])\n",
    "\n",
    "print('Result:', np.dot(m, v0) + np.dot(m, v1))"
   ]
  },
  {
   "cell_type": "markdown",
   "metadata": {},
   "source": [
    "## 3. Rotations and Reflections."
   ]
  },
  {
   "cell_type": "markdown",
   "metadata": {},
   "source": [
    "### 3a. Rotations."
   ]
  },
  {
   "cell_type": "markdown",
   "metadata": {},
   "source": [
    "The linear transformation that rotates a vector $x$ $\\epsilon$   $\\rm I\\!R^{2}$ through an angle $\\theta$ is represented by the 2 x 2 matrix:  \n",
    "\n",
    "\\begin{equation*}\n",
    "\\begin{vmatrix}\n",
    "\\cos\\theta & -sin\\theta  \\\\\n",
    "\\sin\\theta &  cos\\theta  \n",
    "\\end{vmatrix}\n",
    "\\end{equation*}"
   ]
  },
  {
   "cell_type": "code",
   "execution_count": 10,
   "metadata": {},
   "outputs": [
    {
     "name": "stdout",
     "output_type": "stream",
     "text": [
      "Rotated vector: [ 0.  1.]\n"
     ]
    }
   ],
   "source": [
    "# Example\n",
    "def rotate_vector(vec, angle):\n",
    "    theta = np.radians(angle)\n",
    "    m = np.array([[np.cos(theta), -np.sin(theta)],\n",
    "                  [np.sin(theta), np.cos(theta)]])\n",
    "    rot_vec = np.dot(m, vec)\n",
    "    return rot_vec\n",
    "\n",
    "vec = np.array([1,0])\n",
    "angle = 90 # degrees\n",
    "print('Rotated vector:', np.round(rotate_vector(vec, angle)))"
   ]
  },
  {
   "cell_type": "markdown",
   "metadata": {},
   "source": [
    "Note that the dot product tells us something about the angle between the vectors."
   ]
  },
  {
   "cell_type": "code",
   "execution_count": 11,
   "metadata": {},
   "outputs": [
    {
     "name": "stdout",
     "output_type": "stream",
     "text": [
      "The dot product of two orthogonal vectors is: 0\n",
      "The dot product of two vectors with the same directions is: 1\n",
      "The dot product of two vectors with opposite directions is: -1\n"
     ]
    }
   ],
   "source": [
    "print(\"The dot product of two orthogonal vectors is:\", np.array([1,0]).dot(np.array([0,1])))\n",
    "print(\"The dot product of two vectors with the same directions is:\", np.array([1,0]).dot(np.array([1,0])))\n",
    "print(\"The dot product of two vectors with opposite directions is:\", np.array([1,0]).dot(np.array([-1,0])))"
   ]
  },
  {
   "cell_type": "markdown",
   "metadata": {},
   "source": [
    "Given two vectors **r** and **s** separated by an angle theta, they form a triangle with a third (r - s) side **q** = **r** - **s**.\n",
    "The dot product of this vector **q** with itself is given by:  \n",
    "\n",
    "r$**$2 - s$**$2 - 2rscos(theta)  \n",
    "\n",
    "From this it follows that r.dot(s) = |r|$*$|s|$*$cos(theta) where |x| denotes the size of vector x.  \n",
    "Therefore the dot product between two vectors equals the cosine of the angle between the two vectors multiplied by their magnitudes which, in case of the basis (or unit) vectors is 1."
   ]
  },
  {
   "cell_type": "code",
   "execution_count": 12,
   "metadata": {},
   "outputs": [
    {
     "name": "stdout",
     "output_type": "stream",
     "text": [
      "The dot product is: 2\n",
      "The length of r is: 2.2360679775\n",
      "The length of s is: 2.0\n",
      "The angle between r and is: 1.10714871779 radians.\n"
     ]
    },
    {
     "data": {
      "image/png": "[encoded data removed]",
      "text/plain": [
       "<Figure size 360x360 with 1 Axes>"
      ]
     },
     "metadata": {},
     "output_type": "display_data"
    }
   ],
   "source": [
    "r = np.array([2, 1])\n",
    "s = np.array([0, 2])\n",
    "print(\"The dot product is:\", r.dot(s))\n",
    "\n",
    "r_length = np.sqrt(r[0]**2 + r[1]**2)\n",
    "s_length = np.sqrt(s[0]**2 + s[1]**2)\n",
    "print(\"The length of r is:\", r_length)\n",
    "print(\"The length of s is:\", s_length)\n",
    "\n",
    "r_s_angle = np.arccos(r.dot(s)/(r_length * s_length))\n",
    "print(\"The angle between r and is:\", r_s_angle, \"radians.\")\n",
    "\n",
    "#print(np.rad2deg(r_s_angle))\n",
    "vectors = np.array([[0, 0, r[0], r[1]], [0, 0, s[0], s[1]]])\n",
    "X, Y, U, V = zip(*vectors)\n",
    "\n",
    "plt.figure(figsize=(5,5))\n",
    "ax = plt.gca()\n",
    "ax.quiver(X, Y, U, V, angles='xy', scale_units='xy', scale=1)\n",
    "ax.set_xlim([-2, 4])\n",
    "ax.set_ylim([-2, 4])\n",
    "plt.draw()\n",
    "plt.show()"
   ]
  },
  {
   "cell_type": "markdown",
   "metadata": {},
   "source": [
    "### 3b. Reflections."
   ]
  },
  {
   "cell_type": "code",
   "execution_count": 13,
   "metadata": {},
   "outputs": [
    {
     "name": "stdout",
     "output_type": "stream",
     "text": [
      "The original basis vectors: [1 0] and [0 2]\n",
      "Mirrored on the y-axis: [-1  0] [0 2]\n",
      "Inversion: [-1  0] [ 0 -2]\n",
      "Mirrored on y=x: [0 1] [2 0]\n",
      "Mirrored on y=-x: [ 0 -1] [-2  0]\n"
     ]
    }
   ],
   "source": [
    "r = np.array([1, 0]); s = np.array([0, 2])\n",
    "print(\"The original basis vectors:\", r, \"and\", s)\n",
    "\n",
    "mtx = np.array([[-1, 0], [0, 1]])\n",
    "print(\"Mirrored on the y-axis:\", mtx @ r, mtx @ s)\n",
    "\n",
    "mtx = np.array([[-1, 0], [0, -1]])\n",
    "print(\"Inversion:\", mtx @ r, mtx @ s)\n",
    "\n",
    "mtx = np.array([[0, 1], [1, 0]])\n",
    "print(\"Mirrored on y=x:\", mtx @ r, mtx @ s)\n",
    "\n",
    "mtx = np.array([[0, -1], [-1, 0]])\n",
    "print(\"Mirrored on y=-x:\", mtx @ r, mtx @ s)"
   ]
  },
  {
   "cell_type": "code",
   "execution_count": null,
   "metadata": {
    "collapsed": true
   },
   "outputs": [],
   "source": []
  }
 ],
 "metadata": {
  "kernelspec": {
   "display_name": "Python 3",
   "language": "python",
   "name": "python3"
  },
  "language_info": {
   "codemirror_mode": {
    "name": "ipython",
    "version": 3
   },
   "file_extension": ".py",
   "mimetype": "text/x-python",
   "name": "python",
   "nbconvert_exporter": "python",
   "pygments_lexer": "ipython3",
   "version": "3.6.6"
  }
 },
 "nbformat": 4,
 "nbformat_minor": 2
}
